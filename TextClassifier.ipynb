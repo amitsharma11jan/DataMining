{
 "cells": [
  {
   "cell_type": "markdown",
   "metadata": {},
   "source": [
    "## CBA / DMG2 / Supervised Learning Homework Assignment - 1\n",
    "\n",
    "\n",
    "Submitted By: <b>Amit Kumar Sharma (PGID: 71721079)<b>"
   ]
  },
  {
   "cell_type": "markdown",
   "metadata": {},
   "source": [
    "### Problem 6 – News group Text Classifier\n",
    "        \n",
    "    •\tBuild a Naïve Bayes Classifier on Newsgroup dataset\n",
    "    •\tDICTIONARY:\n",
    "            Compute the document frequency of all words (how many  documents each word occurred in)\n",
    "            Sort this in descending order of document frequency\n",
    "            Pick the top 5000 and 10000 words as the dictionary.\n",
    "    •\tLearn P(w|c) for all words and classes\n",
    "    •\tApply Laplacian smoothing of 30\n",
    "    •\tCompute the training and test set accuracy of the model."
   ]
  },
  {
   "cell_type": "code",
   "execution_count": 1,
   "metadata": {
    "collapsed": true
   },
   "outputs": [],
   "source": [
    "from sklearn.datasets import load_files\n",
    "from nltk.tokenize import word_tokenize, sent_tokenize \n",
    "import pandas as pd\n",
    "import re\n",
    "from nltk.tokenize import RegexpTokenizer\n",
    "from nltk.corpus import stopwords\n",
    "from sklearn.feature_extraction.text import TfidfVectorizer\n",
    "from sklearn.feature_extraction.text import CountVectorizer\n",
    "from nltk.stem import WordNetLemmatizer\n",
    "from nltk import stem\n",
    "import numpy as np\n",
    "import string\n",
    "import matplotlib.pyplot as plt\n",
    "import seaborn as sns\n",
    "from sklearn.model_selection import train_test_split\n",
    "from sklearn.pipeline import Pipeline\n",
    "from sklearn.naive_bayes import MultinomialNB\n",
    "from sklearn.metrics import classification_report\n",
    "from sklearn.metrics import accuracy_score\n",
    "%matplotlib inline"
   ]
  },
  {
   "cell_type": "code",
   "execution_count": 2,
   "metadata": {
    "collapsed": true
   },
   "outputs": [],
   "source": [
    "data=load_files(\"/Users/a5sharma/Documents/ISB/DMG2/Assignment/data/20_newsgroups\", encoding='latin1')"
   ]
  },
  {
   "cell_type": "code",
   "execution_count": 3,
   "metadata": {},
   "outputs": [
    {
     "data": {
      "text/plain": [
       "['alt.atheism',\n",
       " 'comp.graphics',\n",
       " 'comp.os.ms-windows.misc',\n",
       " 'comp.sys.ibm.pc.hardware',\n",
       " 'comp.sys.mac.hardware',\n",
       " 'comp.windows.x',\n",
       " 'misc.forsale',\n",
       " 'rec.autos',\n",
       " 'rec.motorcycles',\n",
       " 'rec.sport.baseball',\n",
       " 'rec.sport.hockey',\n",
       " 'sci.crypt',\n",
       " 'sci.electronics',\n",
       " 'sci.med',\n",
       " 'sci.space',\n",
       " 'soc.religion.christian',\n",
       " 'talk.politics.guns',\n",
       " 'talk.politics.mideast',\n",
       " 'talk.politics.misc',\n",
       " 'talk.religion.misc']"
      ]
     },
     "execution_count": 3,
     "metadata": {},
     "output_type": "execute_result"
    }
   ],
   "source": [
    "data.target_names"
   ]
  },
  {
   "cell_type": "code",
   "execution_count": 4,
   "metadata": {
    "collapsed": true
   },
   "outputs": [],
   "source": [
    "df = pd.DataFrame({'message':data.data, 'target':data.target, 'fileName':data.filenames})"
   ]
  },
  {
   "cell_type": "code",
   "execution_count": 5,
   "metadata": {},
   "outputs": [
    {
     "name": "stdout",
     "output_type": "stream",
     "text": [
      "<class 'pandas.core.frame.DataFrame'>\n",
      "RangeIndex: 19997 entries, 0 to 19996\n",
      "Data columns (total 3 columns):\n",
      "fileName    19997 non-null object\n",
      "message     19997 non-null object\n",
      "target      19997 non-null int64\n",
      "dtypes: int64(1), object(2)\n",
      "memory usage: 468.8+ KB\n"
     ]
    }
   ],
   "source": [
    "df.info()"
   ]
  },
  {
   "cell_type": "code",
   "execution_count": 6,
   "metadata": {},
   "outputs": [
    {
     "data": {
      "text/html": [
       "<div>\n",
       "<style>\n",
       "    .dataframe thead tr:only-child th {\n",
       "        text-align: right;\n",
       "    }\n",
       "\n",
       "    .dataframe thead th {\n",
       "        text-align: left;\n",
       "    }\n",
       "\n",
       "    .dataframe tbody tr th {\n",
       "        vertical-align: top;\n",
       "    }\n",
       "</style>\n",
       "<table border=\"1\" class=\"dataframe\">\n",
       "  <thead>\n",
       "    <tr style=\"text-align: right;\">\n",
       "      <th></th>\n",
       "      <th>fileName</th>\n",
       "      <th>message</th>\n",
       "      <th>target</th>\n",
       "    </tr>\n",
       "  </thead>\n",
       "  <tbody>\n",
       "    <tr>\n",
       "      <th>0</th>\n",
       "      <td>/Users/a5sharma/Documents/ISB/DMG2/Assignment/...</td>\n",
       "      <td>Path: cantaloupe.srv.cs.cmu.edu!crabapple.srv....</td>\n",
       "      <td>5</td>\n",
       "    </tr>\n",
       "    <tr>\n",
       "      <th>1</th>\n",
       "      <td>/Users/a5sharma/Documents/ISB/DMG2/Assignment/...</td>\n",
       "      <td>Xref: cantaloupe.srv.cs.cmu.edu sci.med:58979 ...</td>\n",
       "      <td>13</td>\n",
       "    </tr>\n",
       "    <tr>\n",
       "      <th>2</th>\n",
       "      <td>/Users/a5sharma/Documents/ISB/DMG2/Assignment/...</td>\n",
       "      <td>Path: cantaloupe.srv.cs.cmu.edu!magnesium.club...</td>\n",
       "      <td>16</td>\n",
       "    </tr>\n",
       "    <tr>\n",
       "      <th>3</th>\n",
       "      <td>/Users/a5sharma/Documents/ISB/DMG2/Assignment/...</td>\n",
       "      <td>Path: cantaloupe.srv.cs.cmu.edu!rochester!udel...</td>\n",
       "      <td>6</td>\n",
       "    </tr>\n",
       "    <tr>\n",
       "      <th>4</th>\n",
       "      <td>/Users/a5sharma/Documents/ISB/DMG2/Assignment/...</td>\n",
       "      <td>Newsgroups: rec.sport.hockey\\nPath: cantaloupe...</td>\n",
       "      <td>10</td>\n",
       "    </tr>\n",
       "  </tbody>\n",
       "</table>\n",
       "</div>"
      ],
      "text/plain": [
       "                                            fileName  \\\n",
       "0  /Users/a5sharma/Documents/ISB/DMG2/Assignment/...   \n",
       "1  /Users/a5sharma/Documents/ISB/DMG2/Assignment/...   \n",
       "2  /Users/a5sharma/Documents/ISB/DMG2/Assignment/...   \n",
       "3  /Users/a5sharma/Documents/ISB/DMG2/Assignment/...   \n",
       "4  /Users/a5sharma/Documents/ISB/DMG2/Assignment/...   \n",
       "\n",
       "                                             message  target  \n",
       "0  Path: cantaloupe.srv.cs.cmu.edu!crabapple.srv....       5  \n",
       "1  Xref: cantaloupe.srv.cs.cmu.edu sci.med:58979 ...      13  \n",
       "2  Path: cantaloupe.srv.cs.cmu.edu!magnesium.club...      16  \n",
       "3  Path: cantaloupe.srv.cs.cmu.edu!rochester!udel...       6  \n",
       "4  Newsgroups: rec.sport.hockey\\nPath: cantaloupe...      10  "
      ]
     },
     "execution_count": 6,
     "metadata": {},
     "output_type": "execute_result"
    }
   ],
   "source": [
    "df.head()"
   ]
  },
  {
   "cell_type": "markdown",
   "metadata": {},
   "source": [
    "##### Cleaning complete dataset"
   ]
  },
  {
   "cell_type": "code",
   "execution_count": 7,
   "metadata": {
    "collapsed": true
   },
   "outputs": [],
   "source": [
    "# URLs\n",
    "url_regex = re.compile(r\"\"\"((?:[a-z][\\w-]+:(?:/{1,3}|[a-z0-9%])|www\\d{0,3}[.]|[a-z0-9.\\-]+[.][a-z]{2,4}/)(?:[^\\s()<>]+|(([^\\s()<>]+|(([^\\s()<>]+)))*))+(?:(([^\\s()<>]+|(([^\\s()<>]+)))*)|[^\\s`!()[]{};:'\".,<>?«»“”‘’]))\"\"\")\n",
    "\n",
    "# Spliting by word boundaries\n",
    "word_bound_regex = re.compile(r\"\\W+\")\n",
    "\n",
    "# Repeating words like goooooood\n",
    "rpt_regex = re.compile(r\"(.)\\1{1,}\", re.IGNORECASE);\n",
    "def rpt_repl(match):\n",
    "    return match.group(1)+match.group(1)\n",
    "\n",
    "def escape_paren(arr):\n",
    "    return [text.replace(')', '[)}\\]]').replace('(', '[({\\[]') for text in arr]\n",
    "\n",
    "def regex_union(arr):\n",
    "    return '(' + '|'.join( arr ) + ')'\n",
    "\n",
    "# REPLY\n",
    "reply_regex = re.compile(r\"@(RE\\w+)\")\n",
    "def reply_repl(match):\n",
    "    return ''\n",
    "\n",
    "# email\n",
    "email_regex = re.compile(r\"\\S+@\\S+\", re.IGNORECASE);\n",
    "def email_repl(match):\n",
    "    return ''"
   ]
  },
  {
   "cell_type": "code",
   "execution_count": 8,
   "metadata": {
    "collapsed": true
   },
   "outputs": [],
   "source": [
    "def processAll(text):\n",
    "    \n",
    "    text = text.replace(\",\", \" \")\n",
    "        \n",
    "    lines = [i if (not i.startswith(\"Path:\") and not i.startswith(\"Xref:\") and not i.startswith(\"Newsgroups:\") \n",
    "       and not i.startswith(\"Message-ID:\") and not i.startswith(\"Date:\") \n",
    "       and not i.startswith(\"NNTP-Posting-Host:\") and not i.startswith(\"Mime-Version:\")\n",
    "       and not i.startswith(\"X-UserAgent:\") and not i.startswith(\"X-XXDate:\")  \n",
    "       and not i.startswith(\"Content-Type:\") and not i.startswith(\"Content-Transfer-Encoding:\")) else '' for i in text.split('\\n')]\n",
    "    \n",
    "    text = \" \".join(w for w in lines)\n",
    "\n",
    "    \n",
    "    text = re.sub(email_regex, email_repl, text )\n",
    "    \n",
    "    text = text.replace(\":\", \" \")\n",
    "    text = text.replace(\".\", \" \")\n",
    "    \n",
    "    text.replace(\"http://\", \" http://\")\n",
    "    text.replace(\"https://\", \" https://\")\n",
    "    text.replace(\"ftp://\", \" ftp://\")\n",
    "    \n",
    "    text = re.sub(url_regex, ' __URL ', text )\n",
    "    \n",
    "    text = text.replace('\\'','')\n",
    "    text = re.sub( rpt_regex, rpt_repl, text )\n",
    "    \n",
    "    text = re.sub( reply_regex, reply_repl, text )\n",
    "    \n",
    "    twtok = RegexpTokenizer('\\s+', gaps=True)\n",
    "    tokens = twtok.tokenize(text)\n",
    "    \n",
    "    words = [word.lower() for word in tokens if len(word) >= 2 and word.isalpha() and word.lower() not in stopwords.words('english')] \n",
    "        \n",
    "    cleaned_tweet = \" \".join(w for w in words)\n",
    "\n",
    "    return cleaned_tweet"
   ]
  },
  {
   "cell_type": "code",
   "execution_count": 9,
   "metadata": {},
   "outputs": [
    {
     "data": {
      "text/html": [
       "<div>\n",
       "<style>\n",
       "    .dataframe thead tr:only-child th {\n",
       "        text-align: right;\n",
       "    }\n",
       "\n",
       "    .dataframe thead th {\n",
       "        text-align: left;\n",
       "    }\n",
       "\n",
       "    .dataframe tbody tr th {\n",
       "        vertical-align: top;\n",
       "    }\n",
       "</style>\n",
       "<table border=\"1\" class=\"dataframe\">\n",
       "  <thead>\n",
       "    <tr style=\"text-align: right;\">\n",
       "      <th></th>\n",
       "      <th>fileName</th>\n",
       "      <th>message</th>\n",
       "      <th>target</th>\n",
       "    </tr>\n",
       "  </thead>\n",
       "  <tbody>\n",
       "    <tr>\n",
       "      <th>0</th>\n",
       "      <td>/Users/a5sharma/Documents/ISB/DMG2/Assignment/...</td>\n",
       "      <td>Path: cantaloupe.srv.cs.cmu.edu!crabapple.srv....</td>\n",
       "      <td>5</td>\n",
       "    </tr>\n",
       "    <tr>\n",
       "      <th>1</th>\n",
       "      <td>/Users/a5sharma/Documents/ISB/DMG2/Assignment/...</td>\n",
       "      <td>Xref: cantaloupe.srv.cs.cmu.edu sci.med:58979 ...</td>\n",
       "      <td>13</td>\n",
       "    </tr>\n",
       "    <tr>\n",
       "      <th>2</th>\n",
       "      <td>/Users/a5sharma/Documents/ISB/DMG2/Assignment/...</td>\n",
       "      <td>Path: cantaloupe.srv.cs.cmu.edu!magnesium.club...</td>\n",
       "      <td>16</td>\n",
       "    </tr>\n",
       "    <tr>\n",
       "      <th>3</th>\n",
       "      <td>/Users/a5sharma/Documents/ISB/DMG2/Assignment/...</td>\n",
       "      <td>Path: cantaloupe.srv.cs.cmu.edu!rochester!udel...</td>\n",
       "      <td>6</td>\n",
       "    </tr>\n",
       "    <tr>\n",
       "      <th>4</th>\n",
       "      <td>/Users/a5sharma/Documents/ISB/DMG2/Assignment/...</td>\n",
       "      <td>Newsgroups: rec.sport.hockey\\nPath: cantaloupe...</td>\n",
       "      <td>10</td>\n",
       "    </tr>\n",
       "    <tr>\n",
       "      <th>5</th>\n",
       "      <td>/Users/a5sharma/Documents/ISB/DMG2/Assignment/...</td>\n",
       "      <td>Xref: cantaloupe.srv.cs.cmu.edu talk.abortion:...</td>\n",
       "      <td>0</td>\n",
       "    </tr>\n",
       "    <tr>\n",
       "      <th>6</th>\n",
       "      <td>/Users/a5sharma/Documents/ISB/DMG2/Assignment/...</td>\n",
       "      <td>Newsgroups: comp.sys.ibm.pc.hardware\\nPath: ca...</td>\n",
       "      <td>3</td>\n",
       "    </tr>\n",
       "    <tr>\n",
       "      <th>7</th>\n",
       "      <td>/Users/a5sharma/Documents/ISB/DMG2/Assignment/...</td>\n",
       "      <td>Newsgroups: comp.sys.ibm.pc.hardware\\nPath: ca...</td>\n",
       "      <td>3</td>\n",
       "    </tr>\n",
       "    <tr>\n",
       "      <th>8</th>\n",
       "      <td>/Users/a5sharma/Documents/ISB/DMG2/Assignment/...</td>\n",
       "      <td>Xref: cantaloupe.srv.cs.cmu.edu rec.arts.sf.sc...</td>\n",
       "      <td>14</td>\n",
       "    </tr>\n",
       "    <tr>\n",
       "      <th>9</th>\n",
       "      <td>/Users/a5sharma/Documents/ISB/DMG2/Assignment/...</td>\n",
       "      <td>Newsgroups: comp.graphics\\nPath: cantaloupe.sr...</td>\n",
       "      <td>1</td>\n",
       "    </tr>\n",
       "  </tbody>\n",
       "</table>\n",
       "</div>"
      ],
      "text/plain": [
       "                                            fileName  \\\n",
       "0  /Users/a5sharma/Documents/ISB/DMG2/Assignment/...   \n",
       "1  /Users/a5sharma/Documents/ISB/DMG2/Assignment/...   \n",
       "2  /Users/a5sharma/Documents/ISB/DMG2/Assignment/...   \n",
       "3  /Users/a5sharma/Documents/ISB/DMG2/Assignment/...   \n",
       "4  /Users/a5sharma/Documents/ISB/DMG2/Assignment/...   \n",
       "5  /Users/a5sharma/Documents/ISB/DMG2/Assignment/...   \n",
       "6  /Users/a5sharma/Documents/ISB/DMG2/Assignment/...   \n",
       "7  /Users/a5sharma/Documents/ISB/DMG2/Assignment/...   \n",
       "8  /Users/a5sharma/Documents/ISB/DMG2/Assignment/...   \n",
       "9  /Users/a5sharma/Documents/ISB/DMG2/Assignment/...   \n",
       "\n",
       "                                             message  target  \n",
       "0  Path: cantaloupe.srv.cs.cmu.edu!crabapple.srv....       5  \n",
       "1  Xref: cantaloupe.srv.cs.cmu.edu sci.med:58979 ...      13  \n",
       "2  Path: cantaloupe.srv.cs.cmu.edu!magnesium.club...      16  \n",
       "3  Path: cantaloupe.srv.cs.cmu.edu!rochester!udel...       6  \n",
       "4  Newsgroups: rec.sport.hockey\\nPath: cantaloupe...      10  \n",
       "5  Xref: cantaloupe.srv.cs.cmu.edu talk.abortion:...       0  \n",
       "6  Newsgroups: comp.sys.ibm.pc.hardware\\nPath: ca...       3  \n",
       "7  Newsgroups: comp.sys.ibm.pc.hardware\\nPath: ca...       3  \n",
       "8  Xref: cantaloupe.srv.cs.cmu.edu rec.arts.sf.sc...      14  \n",
       "9  Newsgroups: comp.graphics\\nPath: cantaloupe.sr...       1  "
      ]
     },
     "execution_count": 9,
     "metadata": {},
     "output_type": "execute_result"
    }
   ],
   "source": [
    "df.head(10)"
   ]
  },
  {
   "cell_type": "code",
   "execution_count": 10,
   "metadata": {},
   "outputs": [
    {
     "data": {
      "text/html": [
       "<div>\n",
       "<style>\n",
       "    .dataframe thead tr:only-child th {\n",
       "        text-align: right;\n",
       "    }\n",
       "\n",
       "    .dataframe thead th {\n",
       "        text-align: left;\n",
       "    }\n",
       "\n",
       "    .dataframe tbody tr th {\n",
       "        vertical-align: top;\n",
       "    }\n",
       "</style>\n",
       "<table border=\"1\" class=\"dataframe\">\n",
       "  <thead>\n",
       "    <tr style=\"text-align: right;\">\n",
       "      <th></th>\n",
       "      <th>fileName</th>\n",
       "      <th>message</th>\n",
       "      <th>target</th>\n",
       "      <th>CleanText</th>\n",
       "    </tr>\n",
       "  </thead>\n",
       "  <tbody>\n",
       "    <tr>\n",
       "      <th>0</th>\n",
       "      <td>/Users/a5sharma/Documents/ISB/DMG2/Assignment/...</td>\n",
       "      <td>Path: cantaloupe.srv.cs.cmu.edu!crabapple.srv....</td>\n",
       "      <td>5</td>\n",
       "      <td>subject raster text widgets version organizati...</td>\n",
       "    </tr>\n",
       "    <tr>\n",
       "      <th>1</th>\n",
       "      <td>/Users/a5sharma/Documents/ISB/DMG2/Assignment/...</td>\n",
       "      <td>Xref: cantaloupe.srv.cs.cmu.edu sci.med:58979 ...</td>\n",
       "      <td>13</td>\n",
       "      <td>donald mackie subject barbecued foods health r...</td>\n",
       "    </tr>\n",
       "    <tr>\n",
       "      <th>2</th>\n",
       "      <td>/Users/a5sharma/Documents/ISB/DMG2/Assignment/...</td>\n",
       "      <td>Path: cantaloupe.srv.cs.cmu.edu!magnesium.club...</td>\n",
       "      <td>16</td>\n",
       "      <td>subject atf burns dividian organization stratu...</td>\n",
       "    </tr>\n",
       "    <tr>\n",
       "      <th>3</th>\n",
       "      <td>/Users/a5sharma/Documents/ISB/DMG2/Assignment/...</td>\n",
       "      <td>Path: cantaloupe.srv.cs.cmu.edu!rochester!udel...</td>\n",
       "      <td>6</td>\n",
       "      <td>subject wanted summer sublet dc organization j...</td>\n",
       "    </tr>\n",
       "    <tr>\n",
       "      <th>4</th>\n",
       "      <td>/Users/a5sharma/Documents/ISB/DMG2/Assignment/...</td>\n",
       "      <td>Newsgroups: rec.sport.hockey\\nPath: cantaloupe...</td>\n",
       "      <td>10</td>\n",
       "      <td>subject espn cares less hockey organization un...</td>\n",
       "    </tr>\n",
       "    <tr>\n",
       "      <th>5</th>\n",
       "      <td>/Users/a5sharma/Documents/ISB/DMG2/Assignment/...</td>\n",
       "      <td>Xref: cantaloupe.srv.cs.cmu.edu talk.abortion:...</td>\n",
       "      <td>0</td>\n",
       "      <td>subject years say christian morality organizat...</td>\n",
       "    </tr>\n",
       "    <tr>\n",
       "      <th>6</th>\n",
       "      <td>/Users/a5sharma/Documents/ISB/DMG2/Assignment/...</td>\n",
       "      <td>Newsgroups: comp.sys.ibm.pc.hardware\\nPath: ca...</td>\n",
       "      <td>3</td>\n",
       "      <td>subject monitors organization indiana universi...</td>\n",
       "    </tr>\n",
       "    <tr>\n",
       "      <th>7</th>\n",
       "      <td>/Users/a5sharma/Documents/ISB/DMG2/Assignment/...</td>\n",
       "      <td>Newsgroups: comp.sys.ibm.pc.hardware\\nPath: ca...</td>\n",
       "      <td>3</td>\n",
       "      <td>subject pc scanners sender organization organi...</td>\n",
       "    </tr>\n",
       "    <tr>\n",
       "      <th>8</th>\n",
       "      <td>/Users/a5sharma/Documents/ISB/DMG2/Assignment/...</td>\n",
       "      <td>Xref: cantaloupe.srv.cs.cmu.edu rec.arts.sf.sc...</td>\n",
       "      <td>14</td>\n",
       "      <td>robert subject orion drive vacuum sender organ...</td>\n",
       "    </tr>\n",
       "    <tr>\n",
       "      <th>9</th>\n",
       "      <td>/Users/a5sharma/Documents/ISB/DMG2/Assignment/...</td>\n",
       "      <td>Newsgroups: comp.graphics\\nPath: cantaloupe.sr...</td>\n",
       "      <td>1</td>\n",
       "      <td>subject message organization brunel university...</td>\n",
       "    </tr>\n",
       "  </tbody>\n",
       "</table>\n",
       "</div>"
      ],
      "text/plain": [
       "                                            fileName  \\\n",
       "0  /Users/a5sharma/Documents/ISB/DMG2/Assignment/...   \n",
       "1  /Users/a5sharma/Documents/ISB/DMG2/Assignment/...   \n",
       "2  /Users/a5sharma/Documents/ISB/DMG2/Assignment/...   \n",
       "3  /Users/a5sharma/Documents/ISB/DMG2/Assignment/...   \n",
       "4  /Users/a5sharma/Documents/ISB/DMG2/Assignment/...   \n",
       "5  /Users/a5sharma/Documents/ISB/DMG2/Assignment/...   \n",
       "6  /Users/a5sharma/Documents/ISB/DMG2/Assignment/...   \n",
       "7  /Users/a5sharma/Documents/ISB/DMG2/Assignment/...   \n",
       "8  /Users/a5sharma/Documents/ISB/DMG2/Assignment/...   \n",
       "9  /Users/a5sharma/Documents/ISB/DMG2/Assignment/...   \n",
       "\n",
       "                                             message  target  \\\n",
       "0  Path: cantaloupe.srv.cs.cmu.edu!crabapple.srv....       5   \n",
       "1  Xref: cantaloupe.srv.cs.cmu.edu sci.med:58979 ...      13   \n",
       "2  Path: cantaloupe.srv.cs.cmu.edu!magnesium.club...      16   \n",
       "3  Path: cantaloupe.srv.cs.cmu.edu!rochester!udel...       6   \n",
       "4  Newsgroups: rec.sport.hockey\\nPath: cantaloupe...      10   \n",
       "5  Xref: cantaloupe.srv.cs.cmu.edu talk.abortion:...       0   \n",
       "6  Newsgroups: comp.sys.ibm.pc.hardware\\nPath: ca...       3   \n",
       "7  Newsgroups: comp.sys.ibm.pc.hardware\\nPath: ca...       3   \n",
       "8  Xref: cantaloupe.srv.cs.cmu.edu rec.arts.sf.sc...      14   \n",
       "9  Newsgroups: comp.graphics\\nPath: cantaloupe.sr...       1   \n",
       "\n",
       "                                           CleanText  \n",
       "0  subject raster text widgets version organizati...  \n",
       "1  donald mackie subject barbecued foods health r...  \n",
       "2  subject atf burns dividian organization stratu...  \n",
       "3  subject wanted summer sublet dc organization j...  \n",
       "4  subject espn cares less hockey organization un...  \n",
       "5  subject years say christian morality organizat...  \n",
       "6  subject monitors organization indiana universi...  \n",
       "7  subject pc scanners sender organization organi...  \n",
       "8  robert subject orion drive vacuum sender organ...  \n",
       "9  subject message organization brunel university...  "
      ]
     },
     "execution_count": 10,
     "metadata": {},
     "output_type": "execute_result"
    }
   ],
   "source": [
    "df['CleanText'] = df.message.apply(lambda x: processAll(x))\n",
    "df.head(10)"
   ]
  },
  {
   "cell_type": "markdown",
   "metadata": {},
   "source": [
    "##### DICTIONARY:\n",
    "    Compute the document frequency of all words (how many  documents each word occurred in)\n",
    "    Sort this in descending order of document frequency\n",
    "    Pick the top 5000 and 10000 words as the dictionary."
   ]
  },
  {
   "cell_type": "code",
   "execution_count": 11,
   "metadata": {
    "collapsed": true
   },
   "outputs": [],
   "source": [
    "wnl =  stem.PorterStemmer()\n",
    "def stem_tokenizer(tweet):\n",
    "    return [wnl.stem(t) for t in word_tokenize(tweet)]"
   ]
  },
  {
   "cell_type": "markdown",
   "metadata": {},
   "source": [
    "##### Fit CountVectorizer model and pick 5000 highest frequent words as features to predict label"
   ]
  },
  {
   "cell_type": "code",
   "execution_count": 12,
   "metadata": {},
   "outputs": [
    {
     "name": "stdout",
     "output_type": "stream",
     "text": [
      "5000\n",
      "[('write', 16160), ('use', 15277), ('refer', 14484), ('articl', 12943), ('sender', 10977), ('like', 10949), ('univers', 10664), ('dont', 9993), ('peopl', 9973), ('know', 9768), ('think', 8492), ('say', 8426), ('time', 7938), ('make', 7581), ('work', 6347), ('new', 6291), ('want', 6269), ('im', 6008), ('good', 5991), ('year', 5832), ('need', 5709), ('way', 5646), ('right', 5626), ('look', 5519), ('thing', 5477), ('problem', 5196), ('distribut', 5093), ('state', 5023), ('mani', 4970), ('god', 4921), ('tri', 4892), ('comput', 4820), ('file', 4727), ('question', 4662), ('window', 4450), ('believ', 4381), ('come', 4358), ('world', 4355), ('post', 4309), ('said', 4228), ('point', 4218), ('anyon', 4172), ('program', 4143), ('mean', 4138), ('run', 4044), ('read', 3791), ('differ', 3713), ('help', 3653), ('realli', 3632), ('someth', 3561), ('number', 3540), ('drive', 3515), ('inform', 3499), ('govern', 3480), ('sinc', 3469), ('pleas', 3456), ('start', 3397), ('reason', 3361), ('person', 3353), ('game', 3345), ('day', 3307), ('christian', 3288), ('gener', 3261), ('support', 3242), ('case', 3240), ('news', 3235), ('edu', 3178), ('includ', 3174), ('thank', 3167), ('ive', 3152), ('follow', 3134), ('ask', 3066), ('law', 3043), ('sure', 3032), ('fact', 3020), ('group', 3007), ('set', 2987), ('better', 2944), ('let', 2890), ('talk', 2808), ('power', 2799), ('got', 2780), ('imag', 2778), ('someon', 2759), ('anoth', 2756), ('doesnt', 2756), ('tell', 2729), ('scienc', 2692), ('possibl', 2688), ('car', 2688), ('chang', 2651), ('usa', 2646), ('avail', 2645), ('lot', 2633), ('control', 2624), ('space', 2623), ('live', 2575), ('data', 2548), ('list', 2540), ('key', 2507)]\n"
     ]
    }
   ],
   "source": [
    "vectors1 = CountVectorizer(stop_words='english',tokenizer=stem_tokenizer,max_df=0.95, min_df=2,max_features=5000)\n",
    "bag_of_words1 = vectors1.fit_transform(df.CleanText)\n",
    "sum_words1 = bag_of_words1.sum(axis=0)\n",
    "words_freq1 = [(word, sum_words1[0, idx]) for word, idx in vectors1.vocabulary_.items()]\n",
    "sortedFreqWords1 = sorted(words_freq1, key = lambda x: x[1], reverse=True)\n",
    "print(len(sortedFreqWords1))\n",
    "print(sortedFreqWords1[0:100])"
   ]
  },
  {
   "cell_type": "markdown",
   "metadata": {},
   "source": [
    "##### Fit CountVectorizer model and pick 10000 highest frequent words as features to predict label"
   ]
  },
  {
   "cell_type": "code",
   "execution_count": 13,
   "metadata": {},
   "outputs": [
    {
     "name": "stdout",
     "output_type": "stream",
     "text": [
      "10000\n",
      "[('write', 16160), ('use', 15277), ('refer', 14484), ('articl', 12943), ('sender', 10977), ('like', 10949), ('univers', 10664), ('dont', 9993), ('peopl', 9973), ('know', 9768), ('think', 8492), ('say', 8426), ('time', 7938), ('make', 7581), ('work', 6347), ('new', 6291), ('want', 6269), ('im', 6008), ('good', 5991), ('year', 5832), ('need', 5709), ('way', 5646), ('right', 5626), ('look', 5519), ('thing', 5477), ('problem', 5196), ('distribut', 5093), ('state', 5023), ('mani', 4970), ('god', 4921), ('tri', 4892), ('comput', 4820), ('file', 4727), ('question', 4662), ('window', 4450), ('believ', 4381), ('come', 4358), ('world', 4355), ('post', 4309), ('said', 4228), ('point', 4218), ('anyon', 4172), ('program', 4143), ('mean', 4138), ('run', 4044), ('read', 3791), ('differ', 3713), ('help', 3653), ('realli', 3632), ('someth', 3561), ('number', 3540), ('drive', 3515), ('inform', 3499), ('govern', 3480), ('sinc', 3469), ('pleas', 3456), ('start', 3397), ('reason', 3361), ('person', 3353), ('game', 3345), ('day', 3307), ('christian', 3288), ('gener', 3261), ('support', 3242), ('case', 3240), ('news', 3235), ('edu', 3178), ('includ', 3174), ('thank', 3167), ('ive', 3152), ('follow', 3134), ('ask', 3066), ('law', 3043), ('sure', 3032), ('fact', 3020), ('group', 3007), ('set', 2987), ('better', 2944), ('let', 2890), ('talk', 2808), ('power', 2799), ('got', 2780), ('imag', 2778), ('someon', 2759), ('anoth', 2756), ('doesnt', 2756), ('tell', 2729), ('scienc', 2692), ('possibl', 2688), ('car', 2688), ('chang', 2651), ('usa', 2646), ('avail', 2645), ('lot', 2633), ('control', 2624), ('space', 2623), ('live', 2575), ('data', 2548), ('list', 2540), ('key', 2507)]\n"
     ]
    }
   ],
   "source": [
    "vectors2 = CountVectorizer(stop_words='english',tokenizer=stem_tokenizer,max_features=10000,max_df=0.95, min_df=2)\n",
    "bag_of_words2 = vectors2.fit_transform(df.CleanText)\n",
    "sum_words2 = bag_of_words2.sum(axis=0)\n",
    "words_freq2 = [(word, sum_words2[0, idx]) for word, idx in vectors2.vocabulary_.items()]\n",
    "sortedFreqWords2 = sorted(words_freq2, key = lambda x: x[1], reverse=True)\n",
    "print(len(sortedFreqWords2))\n",
    "print(sortedFreqWords2[0:100])"
   ]
  },
  {
   "cell_type": "markdown",
   "metadata": {},
   "source": [
    "### Build a Naïve Bayes Classifier on Newsgroup dataset\n",
    "\n",
    "    Learn P(w|c) for all words and classes"
   ]
  },
  {
   "cell_type": "code",
   "execution_count": 14,
   "metadata": {},
   "outputs": [
    {
     "name": "stdout",
     "output_type": "stream",
     "text": [
      "15997 4000\n"
     ]
    }
   ],
   "source": [
    "df['target'] = df['target'].astype(\"category\")\n",
    "\n",
    "X_train, X_test, y_train, y_test = \\\n",
    "train_test_split(df['CleanText'], df['target'], test_size=0.2)\n",
    "\n",
    "print (len(X_train), len(X_test))"
   ]
  },
  {
   "cell_type": "markdown",
   "metadata": {},
   "source": [
    "###### Build Naive bayes classifier model for top frequent 5000 words and learn P(w|c) for top 5000 words"
   ]
  },
  {
   "cell_type": "code",
   "execution_count": 15,
   "metadata": {},
   "outputs": [
    {
     "name": "stdout",
     "output_type": "stream",
     "text": [
      "Accuracy of Training data with top 5000 words: 0.865787335125336\n",
      "Accuracy of Testing data with top 5000 words: 0.81\n"
     ]
    }
   ],
   "source": [
    "X_train_feature = vectors1.transform(X_train).toarray()\n",
    "X_test_feature = vectors1.transform(X_test).toarray()\n",
    "model = MultinomialNB()\n",
    "model.fit(X_train_feature,y_train)\n",
    "\n",
    "p_word_given_class = model.feature_log_prob_\n",
    "prior_p_class = model.class_log_prior_\n",
    "\n",
    "y_pred = model.predict(X_train_feature)\n",
    "print('Accuracy of Training data with top 5000 words: {}'.format(accuracy_score(y_train, y_pred)))\n",
    "\n",
    "y_test_pred = model.predict(X_test_feature)\n",
    "print('Accuracy of Testing data with top 5000 words: {}'.format(accuracy_score(y_test, y_test_pred)))"
   ]
  },
  {
   "cell_type": "code",
   "execution_count": 16,
   "metadata": {},
   "outputs": [
    {
     "name": "stdout",
     "output_type": "stream",
     "text": [
      "accuracy for training data is: 0.865787335125336\n"
     ]
    }
   ],
   "source": [
    "res = prior_p_class + np.dot(p_word_given_class, X_train_feature.T).T\n",
    "y_pred = model.classes_[np.argmax(res, axis=1)]\n",
    "print(\"accuracy for training data is: {}\".format(accuracy_score(y_train, y_pred)))"
   ]
  },
  {
   "cell_type": "code",
   "execution_count": 17,
   "metadata": {},
   "outputs": [
    {
     "name": "stdout",
     "output_type": "stream",
     "text": [
      "accuracy for testing data is: 0.81\n"
     ]
    }
   ],
   "source": [
    "res = prior_p_class + np.dot(p_word_given_class, X_test_feature.T).T\n",
    "y_pred = model.classes_[np.argmax(res, axis=1)]\n",
    "print(\"accuracy for testing data is: {}\".format(accuracy_score(y_test, y_pred)))"
   ]
  },
  {
   "cell_type": "markdown",
   "metadata": {},
   "source": [
    "##### Build Naive bayes classifier model for top frequent 5000 words and  lambda =  30"
   ]
  },
  {
   "cell_type": "code",
   "execution_count": 18,
   "metadata": {},
   "outputs": [
    {
     "name": "stdout",
     "output_type": "stream",
     "text": [
      "Accuracy of Training data with top 5000 words: 0.7985247233856348\n",
      "Accuracy of Testing data with top 5000 words: 0.76425\n"
     ]
    }
   ],
   "source": [
    "model1 = MultinomialNB(alpha=30)\n",
    "model1.fit(X_train_feature,y_train)\n",
    "\n",
    "y_pred = model1.predict(X_train_feature)\n",
    "print('Accuracy of Training data with top 5000 words: {}'.format(accuracy_score(y_train, y_pred)))\n",
    "\n",
    "y_test_pred = model1.predict(X_test_feature)\n",
    "print('Accuracy of Testing data with top 5000 words: {}'.format(accuracy_score(y_test, y_test_pred)))"
   ]
  },
  {
   "cell_type": "markdown",
   "metadata": {},
   "source": [
    "###### Build Naive bayes classifier model for top frequent 10000 words and learn P(w|c) for top 10000 words"
   ]
  },
  {
   "cell_type": "code",
   "execution_count": 19,
   "metadata": {},
   "outputs": [
    {
     "name": "stdout",
     "output_type": "stream",
     "text": [
      "Accuracy of Training data with top 10000 word: 0.8925423516909421\n",
      "Accuracy of Testing data with top 10000 words: 0.82975\n"
     ]
    }
   ],
   "source": [
    "X_train_feature = vectors2.transform(X_train).toarray()\n",
    "X_test_feature = vectors2.transform(X_test).toarray()\n",
    "model = MultinomialNB()\n",
    "model.fit(X_train_feature,y_train)\n",
    "\n",
    "p_word_given_class = model.feature_log_prob_\n",
    "prior_p_class = model.class_log_prior_\n",
    "\n",
    "y_pred = model.predict(X_train_feature)\n",
    "print('Accuracy of Training data with top 10000 word: {}'.format(accuracy_score(y_train, y_pred)))\n",
    "\n",
    "y_test_pred = model.predict(X_test_feature)\n",
    "print('Accuracy of Testing data with top 10000 words: {}'.format(accuracy_score(y_test, y_test_pred)))"
   ]
  },
  {
   "cell_type": "code",
   "execution_count": 20,
   "metadata": {},
   "outputs": [
    {
     "data": {
      "text/plain": [
       "(15997, 10000)"
      ]
     },
     "execution_count": 20,
     "metadata": {},
     "output_type": "execute_result"
    }
   ],
   "source": [
    "X_train_feature.shape"
   ]
  },
  {
   "cell_type": "code",
   "execution_count": 21,
   "metadata": {},
   "outputs": [
    {
     "name": "stdout",
     "output_type": "stream",
     "text": [
      "accuracy for training data is: 0.8925423516909421\n"
     ]
    }
   ],
   "source": [
    "res = prior_p_class + np.dot(p_word_given_class, X_train_feature.T).T\n",
    "y_pred = model.classes_[np.argmax(res, axis=1)]\n",
    "print(\"accuracy for training data is: {}\".format(accuracy_score(y_train, y_pred)))"
   ]
  },
  {
   "cell_type": "code",
   "execution_count": 22,
   "metadata": {},
   "outputs": [
    {
     "name": "stdout",
     "output_type": "stream",
     "text": [
      "accuracy for testing data is: 0.82975\n"
     ]
    }
   ],
   "source": [
    "res = prior_p_class + np.dot(p_word_given_class, X_test_feature.T).T\n",
    "y_pred = model.classes_[np.argmax(res, axis=1)]\n",
    "print(\"accuracy for testing data is: {}\".format(accuracy_score(y_test, y_pred)))"
   ]
  },
  {
   "cell_type": "markdown",
   "metadata": {},
   "source": [
    "##### Build Naive bayes classifier model for top frequent 10000 words and lambda= 30"
   ]
  },
  {
   "cell_type": "code",
   "execution_count": 23,
   "metadata": {},
   "outputs": [
    {
     "name": "stdout",
     "output_type": "stream",
     "text": [
      "Accuracy of Training data with top 10000 words: 0.7845846096143027\n",
      "Accuracy of Testing data with top 10000 words: 0.74225\n"
     ]
    }
   ],
   "source": [
    "model1 = MultinomialNB(alpha=30)\n",
    "model1.fit(X_train_feature,y_train)\n",
    "\n",
    "y_pred = model1.predict(X_train_feature)\n",
    "print('Accuracy of Training data with top 10000 words: {}'.format(accuracy_score(y_train, y_pred)))\n",
    "\n",
    "y_test_pred = model1.predict(X_test_feature)\n",
    "print('Accuracy of Testing data with top 10000 words: {}'.format(accuracy_score(y_test, y_test_pred)))"
   ]
  },
  {
   "cell_type": "markdown",
   "metadata": {},
   "source": [
    "###### Build Naive bayes classifier model for top frequent 10000 words and with different lamda values"
   ]
  },
  {
   "cell_type": "code",
   "execution_count": 24,
   "metadata": {},
   "outputs": [
    {
     "data": {
      "image/png": "[encoded data removed]",
      "text/plain": [
       "<matplotlib.figure.Figure at 0x10ffc6550>"
      ]
     },
     "metadata": {},
     "output_type": "display_data"
    }
   ],
   "source": [
    "train_accracy = list()\n",
    "test_accracy = list()\n",
    "lambd = list()\n",
    "for i in np.arange(0.1,5.0,0.1):\n",
    "    model1 = MultinomialNB(alpha=i)\n",
    "    model1.fit(X_train_feature,y_train)\n",
    "\n",
    "    y_pred = model1.predict(X_train_feature)\n",
    "    y_test_pred = model1.predict(X_test_feature)\n",
    "    \n",
    "    lambd.append(i)\n",
    "    train_accracy.append(accuracy_score(y_train, y_pred))\n",
    "    test_accracy.append(accuracy_score(y_test, y_test_pred))\n",
    "    \n",
    "    final = pd.DataFrame({'lambda':lambd,'train_accracy':train_accracy,'test_accracy':test_accracy})\n",
    "       \n",
    "plt.plot(final['lambda'],final['train_accracy'])\n",
    "plt.plot(final['lambda'],final['test_accracy'])\n",
    "plt.title('model accuracy')\n",
    "plt.ylabel('accuracy')\n",
    "plt.xlabel('lambda')\n",
    "plt.legend(['train', 'test'], loc='upper right')\n",
    "plt.show()"
   ]
  },
  {
   "cell_type": "code",
   "execution_count": null,
   "metadata": {
    "collapsed": true
   },
   "outputs": [],
   "source": []
  }
 ],
 "metadata": {
  "kernelspec": {
   "display_name": "Python 3",
   "language": "python",
   "name": "python3"
  },
  "language_info": {
   "codemirror_mode": {
    "name": "ipython",
    "version": 3
   },
   "file_extension": ".py",
   "mimetype": "text/x-python",
   "name": "python",
   "nbconvert_exporter": "python",
   "pygments_lexer": "ipython3",
   "version": "3.6.3"
  }
 },
 "nbformat": 4,
 "nbformat_minor": 2
}
